{
 "cells": [
  {
   "attachments": {},
   "cell_type": "markdown",
   "metadata": {},
   "source": [
    "- В предположении, что данный массив из 50 элементов получен<br>\n",
    "из нормально распределённой генеральной совокупности <br>\n",
    "с неизвестными m и sigma^2, построить доверительные интервалы <br>\n",
    "для математического ожидания и дисперсии при доверительной <br>\n",
    "вероятности, равной 0,95 <br>\n",
    "(рассмотреть случаи негруппированной и группированной выборок)"
   ]
  },
  {
   "cell_type": "code",
   "execution_count": 1299,
   "metadata": {},
   "outputs": [],
   "source": [
    "import numpy as np\n",
    "import scipy.stats as sts\n",
    "import scipy as sci\n",
    "\n",
    "import statsmodels.api as sm\n",
    "import statsmodels.stats.weightstats as wsts\n",
    "\n",
    "import matplotlib.pyplot as plt\n",
    "from tabulate import tabulate\n",
    "%matplotlib inline\n",
    "\n",
    "# данная выборка\n",
    "val_list = [\n",
    "1.88,\n",
    "-1.58,\n",
    "4.84,\n",
    "1.08,\n",
    "5.59,\n",
    "7.34,\n",
    "3.86,\n",
    "0.22,\n",
    "4.00,\n",
    "2.73,\n",
    "6.23,\n",
    "17.23,\n",
    "2.47,\n",
    "-2.10,\n",
    "-1.42,\n",
    "7.44,\n",
    "7.27,\n",
    "9.02,\n",
    "9.86,\n",
    "7.20,\n",
    "-4.50,\n",
    "2.51,\n",
    "3.27,\n",
    "5.94,\n",
    "0.42,\n",
    "4.37,\n",
    "5.51,\n",
    "2.09,\n",
    "9.04,\n",
    "-0.35,\n",
    "2.14,\n",
    "6.76,\n",
    "-0.43,\n",
    "8.30,\n",
    "12.00,\n",
    "4.27,\n",
    "0.89,\n",
    "-1.04,\n",
    "5.11,\n",
    "3.25,\n",
    "6.42,\n",
    "6.41,\n",
    "10.65,\n",
    "4.22,\n",
    "2.57,\n",
    "2.49,\n",
    "5.28,\n",
    "3.10,\n",
    "2.71,\n",
    "1.94\n",
    "]"
   ]
  },
  {
   "cell_type": "code",
   "execution_count": 1300,
   "metadata": {},
   "outputs": [
    {
     "name": "stdout",
     "output_type": "stream",
     "text": [
      "Доверительный интервал для математического ожидания: [3.0397680085353067, 5.300231991464695]\n",
      "Доверительный интервал для дисперсии: [11.03613448527826, 24.559849521924402]\n"
     ]
    },
    {
     "data": {
      "text/plain": [
       "4.170000000000001"
      ]
     },
     "execution_count": 1300,
     "metadata": {},
     "output_type": "execute_result"
    }
   ],
   "source": [
    "# Негруппированная выборка\n",
    "# Доверительная вероятность\n",
    "beta = 0.95\n",
    "\n",
    "# Размер выборки\n",
    "n = len(val_list)\n",
    "\n",
    "# Среднее значение выборки\n",
    "x_mean = np.mean(val_list)\n",
    "\n",
    "# Стандартная ошибку среднего\n",
    "s = np.std(val_list, ddof=1)\n",
    "\n",
    "# Критическое значение t-статистики для доверительной вероятности 0.95\n",
    "t_value = sts.t.ppf((1 + beta) / 2, n - 1)\n",
    "\n",
    "# Найдем доверительный интервал для математического ожидания\n",
    "ci_mean = [x_mean - t_value * s / np.sqrt(n), x_mean + t_value * s / np.sqrt(n)]\n",
    "\n",
    "# Найдем критическое значение хи-квадрат распределения для доверительной вероятности 0.95\n",
    "chi2_value1 = sts.chi2.ppf((1 + beta) / 2, n-1)\n",
    "chi2_value2 = sts.chi2.ppf((1 - beta) / 2, n-1)\n",
    "\n",
    "# Найдем доверительный интервал для дисперсии\n",
    "ci_var = [(n-1) * s**2 / chi2_value1, (n-1) * s**2 / chi2_value2]\n",
    "\n",
    "print(f'Доверительный интервал для математического ожидания: {ci_mean}')\n",
    "print(f'Доверительный интервал для дисперсии: {ci_var}')\n",
    "x_mean"
   ]
  },
  {
   "cell_type": "code",
   "execution_count": 1301,
   "metadata": {},
   "outputs": [],
   "source": [
    "# Построение группированной выборки\n",
    "freq_intervals_tab = []\n",
    "\n",
    "min_val = min(val_list)\n",
    "max_val = max(val_list)\n",
    "\n",
    "hist, bins = np.histogram(val_list, bins=7, range=(min_val, max_val), weights=None, density= None)\n",
    "\n",
    "for i in range(0, len(hist)):\n",
    "    freq_intervals_tab.append([bins[i], bins[i + 1], hist[i]])\n",
    "\n",
    "group_val_list = []\n",
    "\n",
    "for i in range(0, len(freq_intervals_tab)):\n",
    "    x = (freq_intervals_tab[i][0] + freq_intervals_tab[i][1]) / 2\n",
    "    for j in range(freq_intervals_tab[i][2]):\n",
    "        group_val_list.append(x)"
   ]
  },
  {
   "cell_type": "code",
   "execution_count": 1302,
   "metadata": {},
   "outputs": [
    {
     "name": "stdout",
     "output_type": "stream",
     "text": [
      "Доверительный интервал для математического ожидания (группированная): [3.149016191666151, 5.359155236905279]\n",
      "Доверительный интервал для дисперсии (группированная): [10.550207346680079, 23.478465689703935]\n"
     ]
    }
   ],
   "source": [
    "# Негруппированная выборка\n",
    "# Размер выборки\n",
    "n = len(group_val_list)\n",
    "\n",
    "# Среднее значение выборки\n",
    "x_mean_group = np.mean(group_val_list)\n",
    "\n",
    "# Стандартная ошибку среднего\n",
    "s_group = np.std(group_val_list, ddof=1)\n",
    "\n",
    "# Критическое значение t-статистики для доверительной вероятности 0.95\n",
    "t_value_gr = sts.t.ppf((1 + beta) / 2, n - 1)\n",
    "\n",
    "# Найдем доверительный интервал для математического ожидания\n",
    "ci_mean_gr = [x_mean_group - t_value_gr * s_group / np.sqrt(n), x_mean_group + t_value_gr * s_group / np.sqrt(n)]\n",
    "\n",
    "# Найдем критическое значение хи-квадрат распределения для доверительной вероятности 0.95\n",
    "chi2_value1_gr = sts.chi2.ppf((1 + beta) / 2, n-1)\n",
    "chi2_value2_gr = sts.chi2.ppf((1 - beta) / 2, n-1)\n",
    "\n",
    "# Найдем доверительный интервал для дисперсии\n",
    "ci_var_gr = [(n-1) * s_group**2 / chi2_value1_gr, (n-1) * s_group**2 / chi2_value2_gr]\n",
    "\n",
    "print(f'Доверительный интервал для математического ожидания (группированная): {ci_mean_gr}')\n",
    "print(f'Доверительный интервал для дисперсии (группированная): {ci_var_gr}')"
   ]
  },
  {
   "attachments": {
    "image-2.png": {
     "image/png": "[encoded data removed]"
    },
    "image-3.png": {
     "image/png": "[encoded data removed]"
    },
    "image.png": {
     "image/png": "[encoded data removed]"
    }
   },
   "cell_type": "markdown",
   "metadata": {},
   "source": [
    "- проверить (с помощью построенных доверительных интервалов) гипотезы<br>\n",
    "![image.png](attachment:image.png) <br>\n",
    "![image.png](attachment:image-2.png) <br>\n",
    "![image.png](attachment:image-3.png)"
   ]
  },
  {
   "cell_type": "code",
   "execution_count": 1303,
   "metadata": {},
   "outputs": [
    {
     "name": "stdout",
     "output_type": "stream",
     "text": [
      "Выборочное мат ожидание M0 = -3.536 не попадает в доверительный интервал [3.0397680085353067, 5.300231991464695]\n",
      "т. о. гипотеза не подтверждается.\n"
     ]
    }
   ],
   "source": [
    "select_mean, p_val = sts.ttest_1samp(val_list, x_mean + 0.5 * s)\n",
    "\n",
    "print(f'Выборочное мат ожидание M0 = {round(select_mean, 3)} не попадает в доверительный интервал {ci_mean}')\n",
    "print(f'т. о. гипотеза не подтверждается.')"
   ]
  },
  {
   "cell_type": "code",
   "execution_count": 1304,
   "metadata": {},
   "outputs": [
    {
     "name": "stdout",
     "output_type": "stream",
     "text": [
      "Выборочная дисперсия A0 = 24.5 попадает в доверительный интервал [11.03613448527826, 24.559849521924402]\n",
      "т. о. гипотеза подтверждается.\n"
     ]
    }
   ],
   "source": [
    "select_var = s**2 / ((2 * s**2) / (n - 1))\n",
    "\n",
    "print(f'Выборочная дисперсия A0 = {round(select_var, 3)} попадает в доверительный интервал {ci_var}')\n",
    "print(f'т. о. гипотеза подтверждается.')"
   ]
  },
  {
   "attachments": {},
   "cell_type": "markdown",
   "metadata": {},
   "source": [
    "- вычислить статистику chi^2 для проверки гипотезы о нормальном распределении генеральной<br>\n",
    "совокупности (число интервалов группировки равно семи, уровень значимости α = 0.05 )"
   ]
  },
  {
   "cell_type": "code",
   "execution_count": 1305,
   "metadata": {},
   "outputs": [
    {
     "name": "stdout",
     "output_type": "stream",
     "text": [
      "Гипотеза о нормальном распределении не подтверждается\n",
      "при зададанном уровне значимости а = 0.05\n"
     ]
    }
   ],
   "source": [
    "# Частоты гипопетичкеского распределения\n",
    "nipi = []\n",
    "\n",
    "for i in range(0, len(hist)):\n",
    "    nipi.append(4.4325068 * hist[i] *  (sts.norm.cdf((bins[i+1] - x_mean)/s) - sts.norm.cdf((bins[i] - x_mean)/s)))\n",
    "\n",
    "# Проверка гипотезы\n",
    "stat, p_dist_par = sts.chisquare(hist, f_exp=nipi, ddof=2, axis=0)\n",
    "\n",
    "if (0.05 > p_dist_par):\n",
    "    print('Гипотеза о нормальном распределении не подтверждается\\nпри зададанном уровне значимости а = 0.05')"
   ]
  },
  {
   "attachments": {},
   "cell_type": "markdown",
   "metadata": {},
   "source": [
    "Проанализировать три выборки объёмом 200 из генеральных совокупностей, имеющих <br>\n",
    "экспоненциальное, нормальное и равномерное распределения (по одной выборке каждого из трёх указанных <br>\n",
    "видов распределений)<br>"
   ]
  },
  {
   "cell_type": "code",
   "execution_count": 1306,
   "metadata": {},
   "outputs": [],
   "source": [
    "# параметры нормального распределения\n",
    "m = 20\n",
    "sig = np.sqrt(20)\n",
    "\n",
    "norm_val_list = np.random.normal(m, sig, 200)\n",
    "\n",
    "# параметры экспоненциального распределения\n",
    "lambd = 4\n",
    "\n",
    "exp_val_list = np.random.exponential(4, 200)\n",
    "\n",
    "# параметры равномерного распределения\n",
    "a = 20 # минимальный элемент распределения\n",
    "b = a * 2 # максимальный элемент распределения\n",
    "\n",
    "uni_val_list = np.random.uniform(a, b, 200)"
   ]
  },
  {
   "attachments": {},
   "cell_type": "markdown",
   "metadata": {},
   "source": [
    "– найти выборочное среднее и несмещённую оценку дисперсии<br><br>\n",
    "– построить гистограммы относительных частот (сделать семь интервалов группировки)<br><br>\n",
    "– получить таблицы частот<br><br>\n",
    "– выдвинуть гипотезы о законах распределения генеральных совокупностей,<br>представленных этими массивами\n"
   ]
  },
  {
   "cell_type": "code",
   "execution_count": 1307,
   "metadata": {},
   "outputs": [
    {
     "name": "stdout",
     "output_type": "stream",
     "text": [
      "Таблица частот группированной нормальной выборки:\n",
      "   from       to    freq\n",
      "-------  -------  ------\n",
      "10.789   13.545        8\n",
      "13.545   16.3011      27\n",
      "16.3011  19.0572      43\n",
      "19.0572  21.8133      53\n",
      "21.8133  24.5693      37\n",
      "24.5693  27.3254      19\n",
      "27.3254  30.0815      13\n",
      "\n",
      "Выборочное среднее нормального распределения: 20.249\n",
      "Несмещенная оценка дисперсии нормального распределения: 16.196\n",
      "\n",
      "Гипотеза о нормальном распределении подтверждается\n",
      "при зададанном уровне значимости а < 1.0964247097830772e-11\n"
     ]
    },
    {
     "data": {
      "image/png": "[encoded data removed]",
      "text/plain": [
       "<Figure size 800x800 with 1 Axes>"
      ]
     },
     "metadata": {},
     "output_type": "display_data"
    }
   ],
   "source": [
    "# Таблица частот нормального распределения\n",
    "\n",
    "freq_tab_norm = []\n",
    "\n",
    "min_val = min(norm_val_list)\n",
    "max_val = max(norm_val_list)\n",
    "\n",
    "hist, bins = np.histogram(norm_val_list, bins=7, range=(min_val, max_val), weights=None, density= None)\n",
    "\n",
    "for i in range(0, len(hist)):\n",
    "    freq_tab_norm.append([bins[i], bins[i + 1], hist[i]])\n",
    "\n",
    "print('Таблица частот группированной нормальной выборки:')\n",
    "print(tabulate(freq_tab_norm, headers=['from', 'to', 'freq']))\n",
    "print()\n",
    "\n",
    "# ___________________________________________________________________________________________\n",
    "\n",
    "# Нахождение параметров\n",
    "mean = np.mean(norm_val_list)\n",
    "s =  np.std(norm_val_list, ddof=1)\n",
    "print('Выборочное среднее нормального распределения:', round(mean, 3))\n",
    "print('Несмещенная оценка дисперсии нормального распределения:', round(s**2, 3))\n",
    "print()\n",
    "\n",
    "# ___________________________________________________________________________________________\n",
    "\n",
    "# Частоты гипопетичкеского распределения\n",
    "# nipi = []\n",
    "\n",
    "# for i in range(0, len(hist)):\n",
    "#     nipi.append(hist[i] * (sts.norm.cdf((bins[i+1] - x_mean)/s) - sts.norm.cdf((bins[i] - x_mean)/s)))\n",
    "\n",
    "# Проверка гипотезы\n",
    "# stat, p_dist_par = sts.chisquare(hist, f_exp=nipi, ddof=2, axis=0)\n",
    "stat, p_dist_par = sts.chisquare(hist, ddof=2, axis=0)\n",
    "\n",
    "\n",
    "print(f'Гипотеза о нормальном распределении подтверждается\\nпри зададанном уровне значимости а < {p_dist_par}')\n",
    "\n",
    "# ___________________________________________________________________________________________\n",
    "\n",
    "# Построение гистограммы для нормального распределения\n",
    "fig = plt.figure(figsize=(8, 8))\n",
    "\n",
    "plt.title('Гистограмма частот нормального распределения\\n')\n",
    "\n",
    "plt.xlabel('x')\n",
    "plt.ylabel('m')\n",
    "\n",
    "plt.grid()\n",
    "\n",
    "plt.axis('equal')\n",
    "\n",
    "plt.axhline(y=0, color='k')\n",
    "plt.axvline(x=0, color='k')\n",
    "\n",
    "plt.axis([6, 31, 0, 60])\n",
    "\n",
    "h = plt.hist(norm_val_list, bins=bins, range=(min_val, max_val), density=None, weights=None, \n",
    "                cumulative=False, histtype='bar',\n",
    "                align='mid', orientation='vertical',\n",
    "                log=False, color=None)"
   ]
  },
  {
   "cell_type": "code",
   "execution_count": 1308,
   "metadata": {},
   "outputs": [
    {
     "name": "stdout",
     "output_type": "stream",
     "text": [
      "Таблица частот группированной экспоненциальной выборки:\n",
      "      from        to    freq\n",
      "----------  --------  ------\n",
      " 0.0115257   2.32692      77\n",
      " 2.32692     4.64231      60\n",
      " 4.64231     6.9577       28\n",
      " 6.9577      9.27309      15\n",
      " 9.27309    11.5885        8\n",
      "11.5885     13.9039        4\n",
      "13.9039     16.2193        8\n",
      "\n",
      "Выборочное среднее экспоненциального распределения: 4.037\n",
      "Несмещенная оценка дисперсии экспоненциального распределения: 13.65\n",
      "\n",
      "Гипотеза о экспоненциальном распределении подтверждается\n",
      "при зададанном уровне значимости а < 1.089523622069313e-35\n"
     ]
    },
    {
     "data": {
      "image/png": "[encoded data removed]",
      "text/plain": [
       "<Figure size 800x800 with 1 Axes>"
      ]
     },
     "metadata": {},
     "output_type": "display_data"
    }
   ],
   "source": [
    "# Таблица частот экспоненциального распределения\n",
    "\n",
    "freq_tab_exp = []\n",
    "\n",
    "min_val = min(exp_val_list)\n",
    "max_val = max(exp_val_list)\n",
    "\n",
    "hist, bins = np.histogram(exp_val_list, bins=7, range=(min_val, max_val), weights=None, density= None)\n",
    "\n",
    "for i in range(0, len(hist)):\n",
    "    freq_tab_exp.append([bins[i], bins[i + 1], hist[i]])\n",
    "\n",
    "print('Таблица частот группированной экспоненциальной выборки:')\n",
    "print(tabulate(freq_tab_exp, headers=['from', 'to', 'freq']))\n",
    "print()\n",
    "\n",
    "# ___________________________________________________________________________________________\n",
    "\n",
    "# Нахождение параметров\n",
    "mean = np.mean(exp_val_list)\n",
    "s =  np.std(exp_val_list, ddof=1)\n",
    "print('Выборочное среднее экспоненциального распределения:', round(mean, 3))\n",
    "print('Несмещенная оценка дисперсии экспоненциального распределения:', round(s**2, 3))\n",
    "print()\n",
    "\n",
    "# ___________________________________________________________________________________________\n",
    "\n",
    "# Частоты гипопетичкеского распределения\n",
    "# nipi = []\n",
    "\n",
    "# for i in range(0, len(hist)):\n",
    "    # nipi.append(hist[i] * (1 - np.exp(bins[i + 1] * -lambd) - 1 + np.exp(bins[i] * -lambd)))\n",
    "\n",
    "# Проверка гипотезы\n",
    "# stat, p_dist_par = sts.chisquare(hist, f_exp=nipi, ddof=1, axis=0)\n",
    "stat, p_dist_par = sts.chisquare(hist, ddof=1, axis=0)\n",
    "\n",
    "print(f'Гипотеза о экспоненциальном распределении подтверждается\\nпри зададанном уровне значимости а < {p_dist_par}')\n",
    "# ___________________________________________________________________________________________\n",
    "\n",
    "\n",
    "# Построение гистограммы для нормального распределения\n",
    "fig = plt.figure(figsize=(8, 8))\n",
    "\n",
    "plt.title('Гистограмма частот экспоненциального распределения\\n')\n",
    "\n",
    "plt.xlabel('x')\n",
    "plt.ylabel('m')\n",
    "\n",
    "plt.grid()\n",
    "\n",
    "plt.axis('equal')\n",
    "\n",
    "plt.axhline(y=0, color='k')\n",
    "plt.axvline(x=0, color='k')\n",
    "\n",
    "plt.axis([6, 31, 0, 100])\n",
    "\n",
    "h = plt.hist(exp_val_list, bins=bins, range=(min_val, max_val), density=None, weights=None, \n",
    "                cumulative=False, histtype='bar',\n",
    "                align='mid', orientation='vertical',\n",
    "                log=False, color=None)"
   ]
  },
  {
   "cell_type": "code",
   "execution_count": 1309,
   "metadata": {},
   "outputs": [
    {
     "name": "stdout",
     "output_type": "stream",
     "text": [
      "Таблица частот группированной равномерной выборки:\n",
      "   from       to    freq\n",
      "-------  -------  ------\n",
      "20.0646  22.8922      27\n",
      "22.8922  25.7198      34\n",
      "25.7198  28.5474      24\n",
      "28.5474  31.375       33\n",
      "31.375   34.2026      25\n",
      "34.2026  37.0302      29\n",
      "37.0302  39.8577      28\n",
      "\n",
      "Выборочное среднее равномерного распределения: 29.798\n",
      "Несмещенная оценка дисперсии равномерного распределения: 33.476\n",
      "\n",
      "Гипотеза о равномерном распределении подтверждается\n",
      "при зададанном уровне значимости а < 0.6999858358786276\n",
      "\n"
     ]
    },
    {
     "data": {
      "image/png": "[encoded data removed]",
      "text/plain": [
       "<Figure size 800x800 with 1 Axes>"
      ]
     },
     "metadata": {},
     "output_type": "display_data"
    }
   ],
   "source": [
    "# Таблица частот равномерного распределения\n",
    "\n",
    "freq_tab_uni = []\n",
    "\n",
    "min_val = min(uni_val_list)\n",
    "max_val = max(uni_val_list)\n",
    "\n",
    "hist, bins = np.histogram(uni_val_list, bins=7, range=(min_val, max_val), weights=None, density= None)\n",
    "\n",
    "for i in range(0, len(hist)):\n",
    "    freq_tab_uni.append([bins[i], bins[i + 1], hist[i]])\n",
    "\n",
    "print('Таблица частот группированной равномерной выборки:')\n",
    "print(tabulate(freq_tab_uni, headers=['from', 'to', 'freq']))\n",
    "print()\n",
    "\n",
    "# ___________________________________________________________________________________________\n",
    "\n",
    "# Нахождение параметров\n",
    "mean = np.mean(uni_val_list)\n",
    "s =  np.std(uni_val_list, ddof=1)\n",
    "print('Выборочное среднее равномерного распределения:', round(mean, 3))\n",
    "print('Несмещенная оценка дисперсии равномерного распределения:', round(s**2, 3))\n",
    "print()\n",
    "\n",
    "# ___________________________________________________________________________________________\n",
    "\n",
    "# Частоты гипопетичкеского распределения\n",
    "# nipi = []\n",
    "\n",
    "# for i in range(0, len(hist)):\n",
    "    # nipi.append(hist[i] * ((bins[i + 1] - a) / (b - a) - (bins[i] - a) / (b - a)))\n",
    "\n",
    "# Проверка гипотезы\n",
    "# stat, p_dist_par = sts.chisquare(hist, f_exp=nipi, ddof=1, axis=0)\n",
    "stat, p_dist_par = sts.chisquare(hist, ddof=1, axis=0)\n",
    "\n",
    "print(f'Гипотеза о равномерном распределении подтверждается\\nпри зададанном уровне значимости а < {p_dist_par}')\n",
    "print()\n",
    "\n",
    "# ___________________________________________________________________________________________\n",
    "\n",
    "\n",
    "# Построение гистограммы для нормального распределения\n",
    "fig = plt.figure(figsize=(8, 8))\n",
    "\n",
    "plt.title('Гистограмма частот равномерного распределения\\n')\n",
    "\n",
    "plt.xlabel('x')\n",
    "plt.ylabel('m')\n",
    "\n",
    "plt.grid()\n",
    "\n",
    "plt.axis('equal')\n",
    "\n",
    "plt.axhline(y=0, color='k')\n",
    "plt.axvline(x=0, color='k')\n",
    "\n",
    "plt.axis([15, 45, 0, 40])\n",
    "\n",
    "h = plt.hist(uni_val_list, bins=bins, range=(min_val, max_val), density=None, weights=None, \n",
    "                cumulative=False, histtype='bar',\n",
    "                align='mid', orientation='vertical',\n",
    "                log=False, color=None)"
   ]
  }
 ],
 "metadata": {
  "kernelspec": {
   "display_name": "math-env",
   "language": "python",
   "name": "python3"
  },
  "language_info": {
   "codemirror_mode": {
    "name": "ipython",
    "version": 3
   },
   "file_extension": ".py",
   "mimetype": "text/x-python",
   "name": "python",
   "nbconvert_exporter": "python",
   "pygments_lexer": "ipython3",
   "version": "3.11.0"
  },
  "orig_nbformat": 4,
  "vscode": {
   "interpreter": {
    "hash": "4dbcc41018ba8f1dba8c560e0885a6a95088a5dea418dce367a2b650fbbb44bc"
   }
  }
 },
 "nbformat": 4,
 "nbformat_minor": 2
}
