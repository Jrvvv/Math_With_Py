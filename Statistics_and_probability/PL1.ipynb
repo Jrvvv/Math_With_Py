{
 "cells": [
  {
   "attachments": {},
   "cell_type": "markdown",
   "id": "af4980a8",
   "metadata": {},
   "source": [
    "– Построить вариационный и статистический ряды по данной выборке, найти размах выборки;<br><br>\n",
    "– Построить таблицу частот группированной выборки, сделав семь интервалов одинаковой длины;<br><br>\n",
    "– Провести статистическую обработку результатов наблюдений, включающую построение (для<br>\n",
    "интервально группированной выборки) полигона и гистограммы частот, эмпирической функции<br>\n",
    "распределения;<br><br>\n",
    "– Найти оценки математического ожидания, дисперсии (смещённую и несмещённую), медианы и<br>\n",
    "моды для исходной (негруппированной) и интервально группированной выборок.<br>"
   ]
  },
  {
   "cell_type": "code",
   "execution_count": 21,
   "id": "ae50f57c-865f-4891-a494-162d2f255f8e",
   "metadata": {},
   "outputs": [],
   "source": [
    "import numpy as np\n",
    "import scipy.stats as sts\n",
    "import scipy as sci\n",
    "import matplotlib.pyplot as plt\n",
    "from tabulate import tabulate\n",
    "%matplotlib inline"
   ]
  },
  {
   "cell_type": "code",
   "execution_count": 22,
   "id": "371215b9-14b2-4bba-a650-31cce04a7a50",
   "metadata": {},
   "outputs": [],
   "source": [
    "# данная выборка\n",
    "val_list = [\n",
    "1.88,\n",
    "-1.58,\n",
    "4.84,\n",
    "1.08,\n",
    "5.59,\n",
    "7.34,\n",
    "3.86,\n",
    "0.22,\n",
    "4.00,\n",
    "2.73,\n",
    "6.23,\n",
    "17.23,\n",
    "2.47,\n",
    "-2.10,\n",
    "-1.42,\n",
    "7.44,\n",
    "7.27,\n",
    "9.02,\n",
    "9.86,\n",
    "7.20,\n",
    "-4.50,\n",
    "2.51,\n",
    "3.27,\n",
    "5.94,\n",
    "0.42,\n",
    "4.37,\n",
    "5.51,\n",
    "2.09,\n",
    "9.04,\n",
    "-0.35,\n",
    "2.14,\n",
    "6.76,\n",
    "-0.43,\n",
    "8.30,\n",
    "12.00,\n",
    "4.27,\n",
    "0.89,\n",
    "-1.04,\n",
    "5.11,\n",
    "3.25,\n",
    "6.42,\n",
    "6.41,\n",
    "10.65,\n",
    "4.22,\n",
    "2.57,\n",
    "2.49,\n",
    "5.28,\n",
    "3.10,\n",
    "2.71,\n",
    "1.94\n",
    "]"
   ]
  },
  {
   "cell_type": "code",
   "execution_count": 23,
   "id": "33e8c030-341f-4c8a-9fe9-d7c6cfc40434",
   "metadata": {},
   "outputs": [
    {
     "name": "stdout",
     "output_type": "stream",
     "text": [
      "Размах выборки:  21.73\n",
      "Мода (полимодальная СВ): -4.5\n",
      "Медиана: 3.93\n",
      "Выборочное среднее: 4.17\n",
      "Дисперсия: 0.94\n"
     ]
    }
   ],
   "source": [
    "# Вычисление параметров исходной выборки\n",
    "\n",
    "min_val = min(val_list)\n",
    "max_val = max(val_list)\n",
    "\n",
    "delta = abs(min(val_list) - max(val_list))\n",
    "\n",
    "positive_int_val = []\n",
    "\n",
    "positive_int_val[:] = [int((elem + abs(min_val))*100) for elem in val_list]\n",
    "\n",
    "bin_cnt = np.bincount(positive_int_val)\n",
    "\n",
    "print('Размах выборки: ', delta)\n",
    "print('Мода (полимодальная СВ):', sts.mode(val_list, keepdims=True)[0][0])\n",
    "print('Медиана:', round(np.median(val_list), 2))\n",
    "print('Выборочное среднее:', round(np.mean(val_list), 2))\n",
    "print('Дисперсия:', round(sts.variation(val_list), 2))"
   ]
  },
  {
   "cell_type": "code",
   "execution_count": 24,
   "id": "dd674ba3-1930-40c8-908f-f63dbe53e07b",
   "metadata": {},
   "outputs": [
    {
     "name": "stdout",
     "output_type": "stream",
     "text": [
      "Статистический ряд:\n",
      "  stats    counts\n",
      "-------  --------\n",
      "  -4.5          1\n",
      "  -2.1          1\n",
      "  -1.58         1\n",
      "  -1.42         1\n",
      "  -1.04         1\n",
      "  -0.43         1\n",
      "  -0.35         1\n",
      "   0.22         1\n",
      "   0.42         1\n",
      "   0.89         1\n",
      "   1.08         1\n",
      "   1.88         1\n",
      "   1.94         1\n",
      "   2.09         1\n",
      "   2.14         1\n",
      "   2.47         1\n",
      "   2.49         1\n",
      "   2.51         1\n",
      "   2.57         1\n",
      "   2.71         1\n",
      "   2.73         1\n",
      "   3.1          1\n",
      "   3.25         1\n",
      "   3.27         1\n",
      "   3.86         1\n",
      "   4            1\n",
      "   4.22         1\n",
      "   4.27         1\n",
      "   4.37         1\n",
      "   4.84         1\n",
      "   5.11         1\n",
      "   5.28         1\n",
      "   5.51         1\n",
      "   5.59         1\n",
      "   5.94         1\n",
      "   6.23         1\n",
      "   6.41         1\n",
      "   6.42         1\n",
      "   6.76         1\n",
      "   7.2          1\n",
      "   7.27         1\n",
      "   7.34         1\n",
      "   7.44         1\n",
      "   8.3          1\n",
      "   9.02         1\n",
      "   9.04         1\n",
      "   9.86         1\n",
      "  10.65         1\n",
      "  12            1\n",
      "  17.23         1\n"
     ]
    }
   ],
   "source": [
    "# Статистический и вариацонный ряды\n",
    "\n",
    "stat_raw = np.sort(list(set(val_list)))\n",
    "\n",
    "variat_row = []\n",
    "\n",
    "j = 0\n",
    "for i in range(len(bin_cnt)):\n",
    "    if(bin_cnt[i] != 0):\n",
    "        variat_row.append([stat_raw[j], bin_cnt[i]])\n",
    "        j += 1\n",
    "\n",
    "print('Статистический ряд:')\n",
    "print(tabulate(variat_row, headers=['stats', 'counts']))\n"
   ]
  },
  {
   "cell_type": "code",
   "execution_count": 25,
   "id": "4653d946",
   "metadata": {},
   "outputs": [
    {
     "name": "stdout",
     "output_type": "stream",
     "text": [
      "Вариационный ряд:\n",
      "  index    stats\n",
      "-------  -------\n",
      "      0    -4.5\n",
      "      1    -2.1\n",
      "      2    -1.58\n",
      "      3    -1.42\n",
      "      4    -1.04\n",
      "      5    -0.43\n",
      "      6    -0.35\n",
      "      7     0.22\n",
      "      8     0.42\n",
      "      9     0.89\n",
      "     10     1.08\n",
      "     11     1.88\n",
      "     12     1.94\n",
      "     13     2.09\n",
      "     14     2.14\n",
      "     15     2.47\n",
      "     16     2.49\n",
      "     17     2.51\n",
      "     18     2.57\n",
      "     19     2.71\n",
      "     20     2.73\n",
      "     21     3.1\n",
      "     22     3.25\n",
      "     23     3.27\n",
      "     24     3.86\n",
      "     25     4\n",
      "     26     4.22\n",
      "     27     4.27\n",
      "     28     4.37\n",
      "     29     4.84\n",
      "     30     5.11\n",
      "     31     5.28\n",
      "     32     5.51\n",
      "     33     5.59\n",
      "     34     5.94\n",
      "     35     6.23\n",
      "     36     6.41\n",
      "     37     6.42\n",
      "     38     6.76\n",
      "     39     7.2\n",
      "     40     7.27\n",
      "     41     7.34\n",
      "     42     7.44\n",
      "     43     8.3\n",
      "     44     9.02\n",
      "     45     9.04\n",
      "     46     9.86\n",
      "     47    10.65\n",
      "     48    12\n",
      "     49    17.23\n"
     ]
    }
   ],
   "source": [
    "\n",
    "stat_tab_raw = []\n",
    "index_raw = []\n",
    "\n",
    "index_raw[:] = [int(elem) for elem in range(len(val_list))]\n",
    "\n",
    "j = 0\n",
    "for i in range(len(val_list)):\n",
    "    stat_tab_raw.append([index_raw[j], stat_raw[i]])\n",
    "    j += 1\n",
    "\n",
    "\n",
    "print('Вариационный ряд:')\n",
    "print(tabulate(stat_tab_raw, headers=['index','stats']))"
   ]
  },
  {
   "cell_type": "code",
   "execution_count": 26,
   "id": "416a141f-513b-4f76-a304-e9a27722a15b",
   "metadata": {},
   "outputs": [
    {
     "name": "stdout",
     "output_type": "stream",
     "text": [
      "Таблица частот группированной выборки:\n",
      "    from        to    freq\n",
      "--------  --------  ------\n",
      "-4.5      -1.39571       4\n",
      "-1.39571   1.70857       7\n",
      " 1.70857   4.81286      18\n",
      " 4.81286   7.91714      14\n",
      " 7.91714  11.0214        5\n",
      "11.0214   14.1257        1\n",
      "14.1257   17.23          1\n"
     ]
    }
   ],
   "source": [
    "# my implementation\n",
    "# step = delta / 7\n",
    "\n",
    "# step_intervals = [round(min_val + step * n, 2) for n in range(8)]\n",
    "\n",
    "# freq_intervals = []\n",
    "\n",
    "# for j in range(1, len(step_intervals)):\n",
    "#     cntr = 0\n",
    "#     for i in range(len(variat_row)):\n",
    "#         if(variat_row[i][0] <= step_intervals[j] and variat_row[i][0] >= step_intervals[j-1]):\n",
    "#             cntr += 1\n",
    "#     freq_intervals.append(cntr)\n",
    "\n",
    "# print(freq_intervals)\n",
    "\n",
    "freq_intervals_tab = []\n",
    "\n",
    "# for i in range(1, len(step_intervals)):\n",
    "#     freq_intervals_tab.append([step_intervals[i-1], step_intervals[i], freq_intervals[i-1]])\n",
    "\n",
    "# print(tabulate(freq_intervals_tab, headers=['from', 'to', 'freq']))\n",
    "\n",
    "# Таблица частот группированной выборки\n",
    "\n",
    "hist, bins = np.histogram(val_list, bins=7, range=(min_val, max_val), weights=None, density= None)\n",
    "\n",
    "for i in range(0, len(hist)):\n",
    "    freq_intervals_tab.append([bins[i], bins[i + 1], hist[i]])\n",
    "\n",
    "print('Таблица частот группированной выборки:')\n",
    "print(tabulate(freq_intervals_tab, headers=['from', 'to', 'freq']))"
   ]
  },
  {
   "cell_type": "code",
   "execution_count": 27,
   "id": "1c88d35d",
   "metadata": {},
   "outputs": [
    {
     "name": "stdout",
     "output_type": "stream",
     "text": [
      "Размах выборки:  20.177857142857142\n",
      "Мода: 3.2607142857142866\n",
      "Медиана: 3.26\n",
      "Выборочное среднее: 4.25\n",
      "Дисперсия: 0.9\n"
     ]
    }
   ],
   "source": [
    "group_val_list = []\n",
    "\n",
    "for i in range(0, len(freq_intervals_tab)):\n",
    "    x = (freq_intervals_tab[i][0] + freq_intervals_tab[i][1]) / 2\n",
    "    for j in range(freq_intervals_tab[i][2]):\n",
    "        group_val_list.append(x)\n",
    "\n",
    "# Вычисление параметров группированной выборки\n",
    "\n",
    "min_group_val = min(group_val_list)\n",
    "max_group_val = max(group_val_list)\n",
    "\n",
    "delta = abs(min(val_list) - max(group_val_list))\n",
    "\n",
    "positive_int_val = []\n",
    "\n",
    "positive_int_val[:] = [int((elem + abs(min_group_val))*100) for elem in group_val_list]\n",
    "\n",
    "bin_cnt = np.bincount(positive_int_val)\n",
    "\n",
    "print('Размах выборки: ', delta)\n",
    "print('Мода:', sts.mode(group_val_list, keepdims=True)[0][0])\n",
    "print('Медиана:', round(np.median(group_val_list), 2))\n",
    "print('Выборочное среднее:', round(np.mean(group_val_list), 2))\n",
    "print('Дисперсия:', round(sts.variation(group_val_list), 2))"
   ]
  },
  {
   "cell_type": "code",
   "execution_count": 28,
   "id": "63884fa1-9d66-4d57-91d3-7a35e368330d",
   "metadata": {},
   "outputs": [
    {
     "data": {
      "image/png": "[encoded data removed]",
      "text/plain": [
       "<Figure size 800x800 with 1 Axes>"
      ]
     },
     "metadata": {},
     "output_type": "display_data"
    }
   ],
   "source": [
    "fig = plt.figure(figsize=(8, 8))\n",
    "\n",
    "plt.title('Полигон и гистограмма частот\\n')\n",
    "\n",
    "for i in range(1, len(variat_row)):\n",
    "  plt.plot([variat_row[i-1][0], variat_row[i][0]],\n",
    "           [variat_row[i-1][1], variat_row[i][1]], 'ro-')\n",
    "\n",
    "plt.xlabel('x')\n",
    "plt.ylabel('m')\n",
    "\n",
    "plt.grid()\n",
    "\n",
    "plt.axis('equal')\n",
    "\n",
    "plt.axhline(y=0, color='k')\n",
    "plt.axvline(x=0, color='k')\n",
    "\n",
    "plt.axis([-5, 18, 0, 19])\n",
    "\n",
    "hist = plt.hist(val_list, bins=bins, range=(min_val, max_val), density=None, weights=None, \n",
    "                cumulative=False, histtype='bar',\n",
    "                align='mid', orientation='vertical',\n",
    "                log=False, color=None)"
   ]
  },
  {
   "cell_type": "code",
   "execution_count": 29,
   "id": "de22783c",
   "metadata": {},
   "outputs": [
    {
     "data": {
      "image/png": "[encoded data removed]",
      "text/plain": [
       "<Figure size 800x800 with 1 Axes>"
      ]
     },
     "metadata": {},
     "output_type": "display_data"
    }
   ],
   "source": [
    "fig = plt.figure(figsize=(8, 8))\n",
    "\n",
    "plt.xlabel('x')\n",
    "plt.ylabel('m')\n",
    "\n",
    "plt.grid()\n",
    "\n",
    "# plt.axis('equal')\n",
    "\n",
    "plt.title('Эмпирическая функция распределения\\n'\n",
    "          'исходной выборки')\n",
    "\n",
    "plt.axhline(y=0, color='k')\n",
    "plt.axvline(x=0, color='k')\n",
    "\n",
    "plt.axis([-5, 18, -1, 1.5])\n",
    "\n",
    "hist = plt.hist(val_list, bins=500, density=True, weights=None, \n",
    "        cumulative=True, histtype='bar',\n",
    "        align='mid', orientation='vertical',\n",
    "        log=False, color=None)"
   ]
  },
  {
   "cell_type": "code",
   "execution_count": 30,
   "id": "6048f90d",
   "metadata": {},
   "outputs": [
    {
     "data": {
      "image/png": "[encoded data removed]",
      "text/plain": [
       "<Figure size 800x800 with 1 Axes>"
      ]
     },
     "metadata": {},
     "output_type": "display_data"
    }
   ],
   "source": [
    "fig = plt.figure(figsize=(8, 8))\n",
    "\n",
    "plt.xlabel('x')\n",
    "plt.ylabel('m')\n",
    "\n",
    "plt.grid()\n",
    "\n",
    "# plt.axis('equal')\n",
    "\n",
    "plt.title('Эмпирическая функция распределения\\n'\n",
    "          'интервально-группирированной выборки')\n",
    "\n",
    "plt.axhline(y=0, color='k')\n",
    "plt.axvline(x=0, color='k') \n",
    "\n",
    "plt.axis([-5, 18, -1, 1.5])\n",
    "\n",
    "hist = plt.hist(val_list, bins=7, range=(min_val, max_val), density=True, weights=None, \n",
    "        cumulative=True, histtype='bar',\n",
    "        align='mid', orientation='vertical',\n",
    "        log=False, color=None)"
   ]
  }
 ],
 "metadata": {
  "kernelspec": {
   "display_name": "math-env",
   "language": "python",
   "name": "python3"
  },
  "language_info": {
   "codemirror_mode": {
    "name": "ipython",
    "version": 3
   },
   "file_extension": ".py",
   "mimetype": "text/x-python",
   "name": "python",
   "nbconvert_exporter": "python",
   "pygments_lexer": "ipython3",
   "version": "3.11.0"
  },
  "vscode": {
   "interpreter": {
    "hash": "4dbcc41018ba8f1dba8c560e0885a6a95088a5dea418dce367a2b650fbbb44bc"
   }
  }
 },
 "nbformat": 4,
 "nbformat_minor": 5
}
