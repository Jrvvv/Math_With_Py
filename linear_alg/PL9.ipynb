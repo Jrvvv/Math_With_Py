{
 "cells": [
  {
   "attachments": {},
   "cell_type": "markdown",
   "metadata": {},
   "source": [
    "Упражнение 9.1. Найти ранг и какой-нибудь базис системы геометрических векторов\n",
    " <br>x1=-i+2j, x2=2i-j+k, x3=-4i+5j-k, x4=3i-3j+k.\n",
    "  <br>Разложить вектор a=4i+j+3k по этому базису (используйте обратную матрицу). Сделать проверку."
   ]
  },
  {
   "cell_type": "code",
   "execution_count": 6,
   "metadata": {},
   "outputs": [
    {
     "name": "stdout",
     "output_type": "stream",
     "text": [
      "3\n",
      "[Matrix([\n",
      "[-1],\n",
      "[ 2],\n",
      "[ 0]]), Matrix([\n",
      "[ 2],\n",
      "[-1],\n",
      "[ 1]]), Matrix([\n",
      "[ 3],\n",
      "[-1],\n",
      "[ 1]])]\n"
     ]
    }
   ],
   "source": [
    "import matplotlib.pyplot as plt\n",
    "import numpy as np\n",
    "from sympy import *\n",
    "\n",
    "A = Matrix([[-1, 2, 0],\n",
    "            [2, -1, 1],\n",
    "            [-4, 5, -1],\n",
    "            [3, -3, 1]])\n",
    "\n",
    "A_T = \n",
    "\n",
    "print(A.rank())\n",
    "print(A.T.columnspace())"
   ]
  }
 ],
 "metadata": {
  "kernelspec": {
   "display_name": "math-env",
   "language": "python",
   "name": "python3"
  },
  "language_info": {
   "codemirror_mode": {
    "name": "ipython",
    "version": 3
   },
   "file_extension": ".py",
   "mimetype": "text/x-python",
   "name": "python",
   "nbconvert_exporter": "python",
   "pygments_lexer": "ipython3",
   "version": "3.11.0"
  },
  "orig_nbformat": 4,
  "vscode": {
   "interpreter": {
    "hash": "4dbcc41018ba8f1dba8c560e0885a6a95088a5dea418dce367a2b650fbbb44bc"
   }
  }
 },
 "nbformat": 4,
 "nbformat_minor": 2
}
