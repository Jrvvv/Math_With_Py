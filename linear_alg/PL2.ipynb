{
 "cells": [
  {
   "cell_type": "markdown",
   "metadata": {},
   "source": [
    "Пример 1:"
   ]
  },
  {
   "cell_type": "code",
   "execution_count": 188,
   "metadata": {},
   "outputs": [
    {
     "name": "stdout",
     "output_type": "stream",
     "text": [
      "[[1 2]\n",
      " [3 4]]\n"
     ]
    }
   ],
   "source": [
    "import numpy as np\n",
    "import sympy as sp\n",
    "\n",
    "arr = np.array([[1, 2], [3, 4]])\n",
    "print(arr)"
   ]
  },
  {
   "cell_type": "code",
   "execution_count": 189,
   "metadata": {},
   "outputs": [
    {
     "name": "stdout",
     "output_type": "stream",
     "text": [
      "[[1 2]\n",
      " [3 4]]\n"
     ]
    }
   ],
   "source": [
    "arr = np.matrix([[1, 2], [3, 4]])\n",
    "print(arr)"
   ]
  },
  {
   "cell_type": "code",
   "execution_count": 190,
   "metadata": {},
   "outputs": [
    {
     "name": "stdout",
     "output_type": "stream",
     "text": [
      "[[1 2 3]\n",
      " [4 5 6]\n",
      " [7 8 9]]\n"
     ]
    }
   ],
   "source": [
    "arr = np.matrix('1 2 3; 4 5 6; 7 8 9')\n",
    "print(arr)\n"
   ]
  },
  {
   "cell_type": "code",
   "execution_count": 191,
   "metadata": {},
   "outputs": [
    {
     "data": {
      "text/latex": [
       "$\\displaystyle \\left[\\begin{matrix}1 & 2\\\\3 & 4\\end{matrix}\\right]$"
      ],
      "text/plain": [
       "Matrix([\n",
       "[1, 2],\n",
       "[3, 4]])"
      ]
     },
     "execution_count": 191,
     "metadata": {},
     "output_type": "execute_result"
    }
   ],
   "source": [
    "a = sp.Matrix([[1,2],[3,4]])\n",
    "a"
   ]
  },
  {
   "cell_type": "code",
   "execution_count": 192,
   "metadata": {},
   "outputs": [
    {
     "name": "stdout",
     "output_type": "stream",
     "text": [
      "-2\n",
      "-2.0000000000000004\n"
     ]
    },
    {
     "data": {
      "text/latex": [
       "$\\displaystyle -2$"
      ],
      "text/plain": [
       "-2"
      ]
     },
     "execution_count": 192,
     "metadata": {},
     "output_type": "execute_result"
    }
   ],
   "source": [
    "# Вычисление определителя\n",
    "# 1) по определению\n",
    "arr = np.matrix('1 2; 3 4')\n",
    "detA = arr[0,0] * arr[1, 1] - arr[0, 1] * arr[1, 0]\n",
    "print(detA)\n",
    "\n",
    "# 2) средствами numpy\n",
    "detA = np.linalg.det(arr)\n",
    "print(detA)\n",
    "\n",
    "# 3) средствами sympy\n",
    "sp.det(a)"
   ]
  },
  {
   "attachments": {
    "image.png": {
     "image/png": "[encoded data removed]"
    }
   },
   "cell_type": "markdown",
   "metadata": {},
   "source": [
    "Упражнение 2.1. Вычислить определители второго порядка, обращаясь через индексы к элементам массива, и сделать проверку с помощью функции det. Буквенные выражения необходимо задать в символьном виде:<br>\n",
    "![image.png](attachment:image.png)"
   ]
  },
  {
   "cell_type": "code",
   "execution_count": 193,
   "metadata": {},
   "outputs": [
    {
     "name": "stdout",
     "output_type": "stream",
     "text": [
      "det by sympy: 18\n",
      "det by indexes: 18\n",
      "det by sympy: 0\n",
      "det by indexes: 0\n",
      "det by sympy: x**2 + 5*x + 4\n",
      "det by indexes: x*(x + 1) + 4*x + 4\n"
     ]
    }
   ],
   "source": [
    "a,b,x = sp.symbols('a b x')\n",
    "\n",
    "v = []\n",
    "v.append(sp.Matrix([[-1, 4], [-5, 2]]))\n",
    "v.append(sp.Matrix([[a + b, a - b], [a + b, a - b]]))\n",
    "v.append(sp.Matrix([[x, x + 1], [-4, x + 1]]))\n",
    "\n",
    "for m in v:\n",
    "  det = m[0,0] * m[1, 1] - m[0, 1] * m[1, 0]\n",
    "  print('det by sympy:', sp.det(m))\n",
    "  print('det by indexes:', det)"
   ]
  },
  {
   "attachments": {
    "image.png": {
     "image/png": "[encoded data removed]"
    }
   },
   "cell_type": "markdown",
   "metadata": {},
   "source": [
    "Упражнение 2.2. Вычислить определители третьего порядка с помощью функции det:<br>![image.png](attachment:image.png)"
   ]
  },
  {
   "cell_type": "code",
   "execution_count": 194,
   "metadata": {},
   "outputs": [
    {
     "name": "stdout",
     "output_type": "stream",
     "text": [
      "det by sympy: 24\n",
      "det by sympy: 0\n",
      "det by sympy: a*b*c + a*b*x + a*c*x + b*c*x\n",
      "det by sympy: sin(a)*cos(b) - sin(a)*cos(c) - sin(b)*cos(a) + sin(b)*cos(c) + sin(c)*cos(a) - sin(c)*cos(b)\n"
     ]
    }
   ],
   "source": [
    "a,b,c,x = sp.symbols('a b c x')\n",
    "v = []\n",
    "\n",
    "v.append(sp.Matrix([[1, 2, 3],\n",
    "                    [4, 5, 6],\n",
    "                    [7, 8, 1]]))\n",
    "\n",
    "v.append(sp.Matrix([[3, 4, -5],\n",
    "                    [8, 7, -2],\n",
    "                    [2, -1, 8]]))\n",
    "\n",
    "v.append(sp.Matrix([[a + x,   x,      x],\n",
    "                    [x,       b + x,  x],\n",
    "                    [x,       x,      c + x]]))\n",
    "\n",
    "v.append(sp.Matrix([[sp.sin(a), sp.cos(a), 1],\n",
    "                    [sp.sin(b), sp.cos(b), 1],\n",
    "                    [sp.sin(c), sp.cos(c), 1]]))\n",
    "\n",
    "for m in v:\n",
    "  print('det by sympy:', sp.det(m))\n"
   ]
  },
  {
   "cell_type": "code",
   "execution_count": 195,
   "metadata": {},
   "outputs": [
    {
     "name": "stdout",
     "output_type": "stream",
     "text": [
      "[[ 3 -1  2]\n",
      " [ 1  4 -1]\n",
      " [ 2  3  1]]\n",
      "[[-4]\n",
      " [10]\n",
      " [ 8]]\n",
      "13.999999999999996\n",
      "X_m:\n",
      "[[-4 -1  2]\n",
      " [10  4 -1]\n",
      " [ 8  3  1]]\n",
      "Y_m:\n",
      "[[ 3 -4  2]\n",
      " [ 1 10 -1]\n",
      " [ 2  8  1]]\n",
      "Z_m:\n",
      "[[ 3 -1 -4]\n",
      " [ 1  4 10]\n",
      " [ 2  3  8]]\n",
      "-1.0000000000000009\n",
      "3.0000000000000013\n",
      "0.9999999999999997\n"
     ]
    }
   ],
   "source": [
    "#пример 2\n",
    "A = np.matrix('3 -1 2; 1 4 -1; 2 3 1')\n",
    "print(A)\n",
    "\n",
    "B = np.matrix('-4; 10; 8')\n",
    "print(B)\n",
    "\n",
    "A_det = np.linalg.det(A)\n",
    "print(A_det)\n",
    "\n",
    "X_m = np.matrix(A)\n",
    "X_m[:, 0] = B\n",
    "print('X_m:')\n",
    "print(X_m)\n",
    "\n",
    "Y_m = np.matrix(A)\n",
    "Y_m[:, 1] = B\n",
    "print('Y_m:')\n",
    "print(Y_m)\n",
    "\n",
    "Z_m = np.matrix(A)\n",
    "Z_m[:, 2] = B\n",
    "print('Z_m:')\n",
    "print(Z_m)\n",
    "\n",
    "x = np.linalg.det(X_m) / A_det\n",
    "y = np.linalg.det(Y_m) / A_det\n",
    "z = np.linalg.det(Z_m) / A_det\n",
    "\n",
    "print(x)\n",
    "print(y)\n",
    "print(z)\n",
    "\n",
    "del(A, B, A_det, X_m, Y_m, Z_m, x, y, z)"
   ]
  },
  {
   "attachments": {
    "image-2.png": {
     "image/png": "[encoded data removed]"
    },
    "image.png": {
     "image/png": "[encoded data removed]"
    }
   },
   "cell_type": "markdown",
   "metadata": {},
   "source": [
    "Упражнение 2.3. Решить системы уравнений по формулам Крамера. Сделать проверку, используя равенство:![image.png](attachment:image.png) <br>\n",
    "![image.png](attachment:image-2.png)"
   ]
  },
  {
   "cell_type": "code",
   "execution_count": 196,
   "metadata": {},
   "outputs": [
    {
     "name": "stdout",
     "output_type": "stream",
     "text": [
      "1)\n",
      "Solved roots:\n",
      " [[16.]\n",
      " [ 7.]]\n",
      "Solved roots with numpy:\n",
      " [[16.]\n",
      " [ 7.]]\n",
      "check:\n",
      " [[ True]\n",
      " [ True]]\n"
     ]
    }
   ],
   "source": [
    "def find_roots_num(A, B):\n",
    "\n",
    "  if np.shape(A)[0] != np.shape(B)[0]:\n",
    "    return []\n",
    "\n",
    "  col = np.shape(A)[1]\n",
    "  A_det = np.linalg.det(A)\n",
    "  new_dets = []\n",
    "  new_det_sum = 0\n",
    "\n",
    "  for m in range(0, col):\n",
    "    new_mat = np.matrix(A)\n",
    "    new_mat[:, m] = B\n",
    "    new_dets.append(np.linalg.det(new_mat))\n",
    "    new_det_sum = new_det_sum + new_dets[m]\n",
    "  \n",
    "  if A_det == 0:\n",
    "    if new_det_sum == 0:\n",
    "      return np.matrix(col * [[np.nan]])\n",
    "    else:\n",
    "      return np.matrix(col * [[np.inf]])\n",
    "\n",
    "  roots = []\n",
    "  for m in range(0, col):\n",
    "    roots.append([(new_dets[m] / A_det).round(5)])\n",
    "\n",
    "  return np.matrix(roots)\n",
    "\n",
    "# Если ранг матрицы равен рангу расширенной матрицы,\n",
    "# но меньше числа неизвестных, то система имеет бесконечное число решений.\n",
    "\n",
    "# Если ранг матрицы меньше ранга расширенной матрицы\n",
    "# и равен числу неизвестных, то система не имеет решения.\n",
    "\n",
    "# 1)\n",
    "A1 = np.matrix([[3 , -5],\n",
    "                [2, 7]])\n",
    "B1 = np.matrix([[13], [81]])\n",
    "\n",
    "roots = find_roots_num(A1, B1)\n",
    "print('1)')\n",
    "print('Solved roots:\\n', roots)\n",
    "print('Solved roots with numpy:\\n', np.linalg.solve(A1, B1))\n",
    "print('check:\\n', A1 * roots - B1 == 0)"
   ]
  },
  {
   "cell_type": "code",
   "execution_count": 197,
   "metadata": {},
   "outputs": [
    {
     "name": "stdout",
     "output_type": "stream",
     "text": [
      "\n",
      "\n",
      "2)\n",
      "Solved roots:\n",
      " [[nan]\n",
      " [nan]]\n",
      "Solved roots with numpy: ERROR (infinite solutions)\n",
      "\n",
      "check:\n",
      " [[False]\n",
      " [False]]\n"
     ]
    }
   ],
   "source": [
    "# 2)\n",
    "A2 = np.matrix([[3, -4], \n",
    "                [-6, 8]])\n",
    "B2 = np.matrix([[-6], [12]])\n",
    "\n",
    "roots = find_roots_num(A2, B2)\n",
    "print('\\n\\n2)')\n",
    "print('Solved roots:\\n', roots)\n",
    "print('Solved roots with numpy: ERROR (infinite solutions)\\n')\n",
    "# print('Solved roots with numpy:\\n', np.linalg.solve(A2, B2)) !!!\n",
    "print('check:\\n', A2 * roots == B2)\n"
   ]
  },
  {
   "cell_type": "code",
   "execution_count": 198,
   "metadata": {},
   "outputs": [
    {
     "name": "stdout",
     "output_type": "stream",
     "text": [
      "\n",
      "\n",
      "3)\n",
      "Solved roots:\n",
      " [[ 2.]\n",
      " [-1.]\n",
      " [ 1.]]\n",
      "Solved roots with numpy:\n",
      " [[ 2.]\n",
      " [-1.]\n",
      " [ 1.]]\n",
      "check:\n",
      " [[ True]\n",
      " [ True]\n",
      " [ True]]\n"
     ]
    }
   ],
   "source": [
    "# 3)\n",
    "A3 = np.matrix([[7,    2,   3],\n",
    "                [5,   -3,   2],\n",
    "                [10, -11,   5]])\n",
    "B3 = np.matrix([[15], [15], [36]])\n",
    "\n",
    "roots = find_roots_num(A3, B3)\n",
    "print('\\n\\n3)')\n",
    "print('Solved roots:\\n', roots)\n",
    "print('Solved roots with numpy:\\n', np.linalg.solve(A3, B3))\n",
    "print('check:\\n', A3 * roots == B3)\n"
   ]
  },
  {
   "cell_type": "code",
   "execution_count": 199,
   "metadata": {},
   "outputs": [
    {
     "name": "stdout",
     "output_type": "stream",
     "text": [
      "\n",
      "\n",
      "4)\n",
      "Solved roots:\n",
      " [[1.]\n",
      " [3.]\n",
      " [5.]]\n",
      "Solved roots with numpy:\n",
      " [[1.]\n",
      " [3.]\n",
      " [5.]]\n",
      "check:\n",
      " [[ True]\n",
      " [ True]\n",
      " [ True]]\n"
     ]
    }
   ],
   "source": [
    "# 4)\n",
    "A4 = np.matrix([[2,    1,   0],\n",
    "                [1,    0,   3],\n",
    "                [0,    5,   -1]])\n",
    "B4 = np.matrix([[5], [16], [10]])\n",
    "\n",
    "roots = find_roots_num(A4, B4)\n",
    "\n",
    "print('\\n\\n4)')\n",
    "print('Solved roots:\\n', roots)\n",
    "print('Solved roots with numpy:\\n', np.linalg.solve(A4, B4))\n",
    "print('check:\\n', A4 * roots == B4)"
   ]
  },
  {
   "attachments": {},
   "cell_type": "markdown",
   "metadata": {},
   "source": [
    "Упражнение 2.4. Решить системы уравнений упражнения 2.3(1) и 2.3(3) в библиотеке Sympy. Сделать проверку (метод *)."
   ]
  },
  {
   "cell_type": "code",
   "execution_count": 200,
   "metadata": {},
   "outputs": [
    {
     "name": "stdout",
     "output_type": "stream",
     "text": [
      "1)\n",
      "Solved roots:\n",
      " Matrix([[16], [7]])\n",
      "Solved roots with sympy:\n",
      " Matrix([[16], [7]])\n",
      "check:\n",
      " True\n",
      "\n",
      "3)\n",
      "Solved roots:\n",
      " Matrix([[2], [-1], [1]])\n",
      "Solved roots with sympy:\n",
      " Matrix([[2], [-1], [1]])\n",
      "check:\n",
      " True\n"
     ]
    }
   ],
   "source": [
    "from sympy.solvers.solveset import linsolve\n",
    "\n",
    "def find_roots_sym(A, B):\n",
    "  \n",
    "  if sp.shape(A)[0] != sp.shape(B)[0]:\n",
    "    return []\n",
    "\n",
    "  A_det = sp.det(A)\n",
    "\n",
    "  roots = []\n",
    "  for m in range(0, sp.shape(A)[1]):\n",
    "    new_mat = sp.Matrix(A)\n",
    "    new_mat[:, m] = sp.Matrix(B)\n",
    "\n",
    "    roots.append([(sp.det(new_mat) / A_det)])\n",
    "\n",
    "  return sp.Matrix(roots)\n",
    "\n",
    "\n",
    "A1 = sp.Matrix([[3, -5],\n",
    "                [2, 7]])\n",
    "B1 = sp.Matrix([[13], [81]])\n",
    "\n",
    "roots = find_roots_sym(A1, B1)\n",
    "\n",
    "print('1)')\n",
    "print('Solved roots:\\n', roots)\n",
    "print('Solved roots with sympy:\\n', A1.solve(B1))\n",
    "print('check:\\n', A1 * roots - B1 == sp.Matrix(2 * [[0]]))\n",
    "\n",
    "# 3)\n",
    "A3 = sp.Matrix([[7,    2,   3],\n",
    "                [5,   -3,   2],\n",
    "                [10, -11,   5]])\n",
    "B3 = sp.Matrix([[15], [15], [36]])\n",
    "\n",
    "roots = find_roots_sym(A3, B3)\n",
    "\n",
    "print('\\n3)')\n",
    "print('Solved roots:\\n', roots)\n",
    "print('Solved roots with sympy:\\n', A3.solve(B3))\n",
    "print('check:\\n', A3 * roots - B3 == sp.Matrix(3 * [[0]]))"
   ]
  },
  {
   "attachments": {
    "image-3.png": {
     "image/png": "[encoded data removed]"
    },
    "image.png": {
     "image/png": "[encoded data removed]"
    }
   },
   "cell_type": "markdown",
   "metadata": {},
   "source": [
    "**Справка:** <br>\n",
    "![image.png](attachment:image.png)<br>\n",
    "![image.png](attachment:image-3.png)"
   ]
  },
  {
   "cell_type": "code",
   "execution_count": 201,
   "metadata": {},
   "outputs": [
    {
     "name": "stdout",
     "output_type": "stream",
     "text": [
      "[[ 0.5         0.5        -0.5       ]\n",
      " [-0.21428571 -0.07142857  0.35714286]\n",
      " [-0.35714286 -0.78571429  0.92857143]]\n"
     ]
    },
    {
     "data": {
      "text/plain": [
       "matrix([[-1.],\n",
       "        [ 3.],\n",
       "        [ 1.]])"
      ]
     },
     "execution_count": 201,
     "metadata": {},
     "output_type": "execute_result"
    }
   ],
   "source": [
    "# Пример 3\n",
    "A = np.matrix('3 -1 2; 1 4 -1; 2 3 1')\n",
    "B = np.matrix('-4; 10; 8')\n",
    "\n",
    "A_inv = np.linalg.inv(A)\n",
    "print(A_inv)\n",
    "X = A_inv.dot(B)\n",
    "X"
   ]
  },
  {
   "attachments": {},
   "cell_type": "markdown",
   "metadata": {},
   "source": [
    "Упражнение 2.5. Решить системы уравнений из упражнений 2.3, используя обратную матрицу.  "
   ]
  },
  {
   "cell_type": "code",
   "execution_count": 202,
   "metadata": {},
   "outputs": [
    {
     "name": "stdout",
     "output_type": "stream",
     "text": [
      "1)\n",
      "Solved roots:\n",
      " [[16.]\n",
      " [ 7.]]\n"
     ]
    }
   ],
   "source": [
    "# 1)\n",
    "A1 = np.matrix([[3 , -5],\n",
    "                [2, 7]])\n",
    "B1 = np.matrix([[13], [81]])\n",
    "\n",
    "A_inv = np.linalg.inv(A1)\n",
    "\n",
    "roots = A_inv * B1\n",
    "print('1)')\n",
    "print('Solved roots:\\n', roots)"
   ]
  },
  {
   "cell_type": "code",
   "execution_count": 203,
   "metadata": {},
   "outputs": [
    {
     "ename": "LinAlgError",
     "evalue": "Singular matrix",
     "output_type": "error",
     "traceback": [
      "\u001b[0;31m---------------------------------------------------------------------------\u001b[0m",
      "\u001b[0;31mLinAlgError\u001b[0m                               Traceback (most recent call last)",
      "Cell \u001b[0;32mIn[203], line 6\u001b[0m\n\u001b[1;32m      2\u001b[0m A2 \u001b[39m=\u001b[39m np\u001b[39m.\u001b[39mmatrix([[\u001b[39m3\u001b[39m, \u001b[39m-\u001b[39m\u001b[39m4\u001b[39m], \n\u001b[1;32m      3\u001b[0m                 [\u001b[39m-\u001b[39m\u001b[39m6\u001b[39m, \u001b[39m8\u001b[39m]])\n\u001b[1;32m      4\u001b[0m B2 \u001b[39m=\u001b[39m np\u001b[39m.\u001b[39mmatrix([[\u001b[39m-\u001b[39m\u001b[39m6\u001b[39m], [\u001b[39m12\u001b[39m]])\n\u001b[0;32m----> 6\u001b[0m A_inv \u001b[39m=\u001b[39m np\u001b[39m.\u001b[39;49mlinalg\u001b[39m.\u001b[39;49minv(A2)\n\u001b[1;32m      8\u001b[0m roots \u001b[39m=\u001b[39m A_inv \u001b[39m*\u001b[39m B2\n\u001b[1;32m     10\u001b[0m \u001b[39mprint\u001b[39m(\u001b[39m'\u001b[39m\u001b[39m\\n\u001b[39;00m\u001b[39m\\n\u001b[39;00m\u001b[39m2)\u001b[39m\u001b[39m'\u001b[39m)\n",
      "File \u001b[0;32m<__array_function__ internals>:200\u001b[0m, in \u001b[0;36minv\u001b[0;34m(*args, **kwargs)\u001b[0m\n",
      "File \u001b[0;32m~/miniconda3/envs/math-env/lib/python3.11/site-packages/numpy/linalg/linalg.py:538\u001b[0m, in \u001b[0;36minv\u001b[0;34m(a)\u001b[0m\n\u001b[1;32m    536\u001b[0m signature \u001b[39m=\u001b[39m \u001b[39m'\u001b[39m\u001b[39mD->D\u001b[39m\u001b[39m'\u001b[39m \u001b[39mif\u001b[39;00m isComplexType(t) \u001b[39melse\u001b[39;00m \u001b[39m'\u001b[39m\u001b[39md->d\u001b[39m\u001b[39m'\u001b[39m\n\u001b[1;32m    537\u001b[0m extobj \u001b[39m=\u001b[39m get_linalg_error_extobj(_raise_linalgerror_singular)\n\u001b[0;32m--> 538\u001b[0m ainv \u001b[39m=\u001b[39m _umath_linalg\u001b[39m.\u001b[39;49minv(a, signature\u001b[39m=\u001b[39;49msignature, extobj\u001b[39m=\u001b[39;49mextobj)\n\u001b[1;32m    539\u001b[0m \u001b[39mreturn\u001b[39;00m wrap(ainv\u001b[39m.\u001b[39mastype(result_t, copy\u001b[39m=\u001b[39m\u001b[39mFalse\u001b[39;00m))\n",
      "File \u001b[0;32m~/miniconda3/envs/math-env/lib/python3.11/site-packages/numpy/linalg/linalg.py:89\u001b[0m, in \u001b[0;36m_raise_linalgerror_singular\u001b[0;34m(err, flag)\u001b[0m\n\u001b[1;32m     88\u001b[0m \u001b[39mdef\u001b[39;00m \u001b[39m_raise_linalgerror_singular\u001b[39m(err, flag):\n\u001b[0;32m---> 89\u001b[0m     \u001b[39mraise\u001b[39;00m LinAlgError(\u001b[39m\"\u001b[39m\u001b[39mSingular matrix\u001b[39m\u001b[39m\"\u001b[39m)\n",
      "\u001b[0;31mLinAlgError\u001b[0m: Singular matrix"
     ]
    }
   ],
   "source": [
    "# 2)\n",
    "A2 = np.matrix([[3, -4], \n",
    "                [-6, 8]])\n",
    "B2 = np.matrix([[-6], [12]])\n",
    "\n",
    "A_inv = np.linalg.inv(A2)\n",
    "\n",
    "roots = A_inv * B2\n",
    "\n",
    "print('\\n\\n2)')\n",
    "print('Solved roots:\\n', roots)"
   ]
  },
  {
   "cell_type": "code",
   "execution_count": null,
   "metadata": {},
   "outputs": [
    {
     "name": "stdout",
     "output_type": "stream",
     "text": [
      "\n",
      "\n",
      "3)\n",
      "Solved roots:\n",
      " [[ 2.]\n",
      " [-1.]\n",
      " [ 1.]]\n"
     ]
    }
   ],
   "source": [
    "# 3)\n",
    "A3 = np.matrix([[7,    2,   3],\n",
    "                [5,   -3,   2],\n",
    "                [10, -11,   5]])\n",
    "B3 = np.matrix([[15], [15], [36]])\n",
    "\n",
    "A_inv = np.linalg.inv(A3)\n",
    "\n",
    "roots = A_inv * B3\n",
    "\n",
    "print('\\n\\n3)')\n",
    "print('Solved roots:\\n', roots)"
   ]
  },
  {
   "cell_type": "code",
   "execution_count": null,
   "metadata": {},
   "outputs": [
    {
     "name": "stdout",
     "output_type": "stream",
     "text": [
      "\n",
      "\n",
      "4)\n",
      "Solved roots:\n",
      " [[1.]\n",
      " [3.]\n",
      " [5.]]\n"
     ]
    }
   ],
   "source": [
    "# 4)\n",
    "A4 = np.matrix([[2,    1,   0],\n",
    "                [1,    0,   3],\n",
    "                [0,    5,   -1]])\n",
    "B4 = np.matrix([[5], [16], [10]])\n",
    "\n",
    "A_inv = np.linalg.inv(A4)\n",
    "\n",
    "roots = A_inv * B4\n",
    "\n",
    "print('\\n\\n4)')\n",
    "print('Solved roots:\\n', roots)"
   ]
  }
 ],
 "metadata": {
  "kernelspec": {
   "display_name": "math-env",
   "language": "python",
   "name": "python3"
  },
  "language_info": {
   "codemirror_mode": {
    "name": "ipython",
    "version": 3
   },
   "file_extension": ".py",
   "mimetype": "text/x-python",
   "name": "python",
   "nbconvert_exporter": "python",
   "pygments_lexer": "ipython3",
   "version": "3.11.0"
  },
  "orig_nbformat": 4,
  "vscode": {
   "interpreter": {
    "hash": "4dbcc41018ba8f1dba8c560e0885a6a95088a5dea418dce367a2b650fbbb44bc"
   }
  }
 },
 "nbformat": 4,
 "nbformat_minor": 2
}
