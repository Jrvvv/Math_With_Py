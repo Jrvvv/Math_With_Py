{
 "cells": [
  {
   "attachments": {},
   "cell_type": "markdown",
   "metadata": {},
   "source": [
    "Упражнение 1. Записать следующие команды (каждую в своей ячейке).\n",
    "1) 2*3\n",
    "2) k=3+4\n",
    "print(k)\n",
    "3) (k+1)*(k-1)\n",
    "4) (x+1)*(x-1)"
   ]
  },
  {
   "cell_type": "code",
   "execution_count": 2,
   "metadata": {},
   "outputs": [
    {
     "data": {
      "text/plain": [
       "6"
      ]
     },
     "execution_count": 2,
     "metadata": {},
     "output_type": "execute_result"
    }
   ],
   "source": [
    "2*3"
   ]
  },
  {
   "cell_type": "code",
   "execution_count": 3,
   "metadata": {},
   "outputs": [
    {
     "name": "stdout",
     "output_type": "stream",
     "text": [
      "7\n"
     ]
    }
   ],
   "source": [
    "k=3+4\n",
    "print(k)"
   ]
  },
  {
   "cell_type": "code",
   "execution_count": 4,
   "metadata": {},
   "outputs": [
    {
     "data": {
      "text/plain": [
       "48"
      ]
     },
     "execution_count": 4,
     "metadata": {},
     "output_type": "execute_result"
    }
   ],
   "source": [
    "(k+1)*(k-1)"
   ]
  },
  {
   "cell_type": "code",
   "execution_count": 5,
   "metadata": {},
   "outputs": [
    {
     "name": "stdout",
     "output_type": "stream",
     "text": [
      "44\n"
     ]
    }
   ],
   "source": [
    "h=(k+2)*3+\\\n",
    "3+(k+7)\n",
    "print(h)"
   ]
  },
  {
   "attachments": {},
   "cell_type": "markdown",
   "metadata": {},
   "source": [
    "Упражнение 3.\n",
    "1) Убрать из рабочего пространства все переменные.\n",
    "2) Ввести переменные x, y, z, t, задав им значения соответственно 1, 2, 3, 4.\n",
    "3) Вывести в командное окно информацию обо всех переменных.\n",
    "4) Удалить из рабочего пространства переменную x.\n",
    "5) Вывести в командное окно информацию об оставшихся переменных.\n",
    "6) Вывести в командное окно информацию об оставшихся переменных."
   ]
  },
  {
   "cell_type": "code",
   "execution_count": 6,
   "metadata": {},
   "outputs": [
    {
     "name": "stdout",
     "output_type": "stream",
     "text": [
      "1 2 3 4\n",
      "after delete: 2 3 4\n"
     ]
    }
   ],
   "source": [
    "%reset\n",
    "\n",
    "x = 1\n",
    "y = 2\n",
    "z = 3\n",
    "t = 4\n",
    "\n",
    "print(x, y, z, t)\n",
    "\n",
    "del(x)\n",
    "\n",
    "print(\"after delete:\", y, z, t)"
   ]
  },
  {
   "attachments": {},
   "cell_type": "markdown",
   "metadata": {},
   "source": [
    "Пример описания матрицы:\n",
    "$\\begin{bmatrix} 1 & 2 & 1 \\\\ 3 & 0 & 1 \\\\ 0 & 2 & 4 \\end{bmatrix}$"
   ]
  },
  {
   "cell_type": "code",
   "execution_count": 7,
   "metadata": {},
   "outputs": [
    {
     "name": "stdout",
     "output_type": "stream",
     "text": [
      "[[1 2 3 4]\n",
      " [0 1 3 2]]\n",
      "column:  [1 0]\n",
      "line:  [1 2 3 4]\n"
     ]
    }
   ],
   "source": [
    "import numpy as np\n",
    "\n",
    "A = np.array( [ [1, 2, 3, 4], [0, 1, 3, 2] ] )\n",
    "\n",
    "print(A)\n",
    "\n",
    "print(\"column: \", A[:,0])\n",
    "print(\"line: \", A[0,:])"
   ]
  },
  {
   "cell_type": "code",
   "execution_count": 8,
   "metadata": {},
   "outputs": [
    {
     "name": "stdout",
     "output_type": "stream",
     "text": [
      "[1 3 5 7]\n"
     ]
    }
   ],
   "source": [
    "v = np.arange(1,8,2)\n",
    "print (v)"
   ]
  },
  {
   "cell_type": "code",
   "execution_count": 9,
   "metadata": {},
   "outputs": [
    {
     "name": "stdout",
     "output_type": "stream",
     "text": [
      "A = [0 1 2 3]\n",
      "B = [[ 0  1  2  3  4  5]\n",
      " [ 6  7  8  9 10 11]]\n"
     ]
    }
   ],
   "source": [
    "A = np.arange(4)\n",
    "print('A =', A)\n",
    "\n",
    "B = np.arange(12).reshape(2, 6)\n",
    "print('B =', B)"
   ]
  },
  {
   "attachments": {},
   "cell_type": "markdown",
   "metadata": {},
   "source": [
    "Упражнение 4.\n",
    "1) Задать какую-нибудь матрицу R размерностью . Отобразить её\n",
    "сначала в текстовой ячейке в режиме Markdown. Затем ввести её в кодовой\n",
    "ячейке с помощью модуля numpy.\n",
    "\n",
    "2) Заменить значения элемента R(2,3) на противоположный (R(2,3)= -R(2,3)), вывести обновленную матрицу R в командное окно. Уменьшить на 4\n",
    "элемент, стоящий в первой строке и третьем столбце, вывести обновленную\n",
    "матрицу R в командное окно. Удвоить все элементы второго столбца. Утроить\n",
    "все элементы первой строки.\n",
    "\n",
    "3) Задать векторы-строки размерности и , задать 3 вектора-столбца\n",
    "разной размерности."
   ]
  },
  {
   "attachments": {},
   "cell_type": "markdown",
   "metadata": {},
   "source": [
    "1) $\\begin{bmatrix} 6 & 6 & 6 \\\\ 7 & 7 & 7 \\\\ 3 & 2 & 2 \\end{bmatrix}$"
   ]
  },
  {
   "cell_type": "code",
   "execution_count": 10,
   "metadata": {},
   "outputs": [
    {
     "name": "stdout",
     "output_type": "stream",
     "text": [
      "before: \n",
      " [[6 6 6]\n",
      " [7 7 7]\n",
      " [3 2 2]] \n",
      "\n",
      "after negative: \n",
      " [[ 6  6  6]\n",
      " [ 7  7 -7]\n",
      " [ 3  2  2]] \n",
      "\n",
      "after minus: \n",
      " [[ 6  6  2]\n",
      " [ 7  7 -7]\n",
      " [ 3  2  2]] \n",
      "\n",
      "after mult: \n",
      " [[18 36  6]\n",
      " [ 7 14 -7]\n",
      " [ 3  4  2]]\n"
     ]
    }
   ],
   "source": [
    "R = np.array( [ [6, 6, 6], [7, 7, 7], [3, 2, 2] ] )\n",
    "\n",
    "print(\"before: \\n\", R, \"\\n\")\n",
    "\n",
    "R[1, 2] = -R[1, 2]\n",
    "\n",
    "print(\"after negative: \\n\", R, \"\\n\")\n",
    "\n",
    "R[0, 2] -= 4\n",
    "\n",
    "print(\"after minus: \\n\", R, \"\\n\")\n",
    "\n",
    "R[:,1] *= 2\n",
    "R[0,:] *= 3\n",
    "\n",
    "print(\"after mult: \\n\", R)"
   ]
  },
  {
   "cell_type": "code",
   "execution_count": 11,
   "metadata": {},
   "outputs": [
    {
     "name": "stdout",
     "output_type": "stream",
     "text": [
      "Vector-strings: \n",
      "[1 2 3 4 5]\n",
      "[1 2 3 4 5 6 7]\n",
      "Vector-columns :\n",
      "[[1]\n",
      " [2]\n",
      " [3]]\n",
      "[[1]\n",
      " [2]\n",
      " [3]\n",
      " [4]]\n",
      "[[1]\n",
      " [2]\n",
      " [3]\n",
      " [4]\n",
      " [5]]\n"
     ]
    }
   ],
   "source": [
    "V_S1 = np.array([1, 2, 3, 4, 5])\n",
    "V_S2 = np.array([1, 2, 3, 4, 5, 6, 7])\n",
    "\n",
    "print(\"Vector-strings: \")\n",
    "print(V_S1)\n",
    "print(V_S2)\n",
    "\n",
    "V_C1 = np.array([[1], [2], [3]])\n",
    "V_C2 = np.array([[1], [2], [3], [4]])\n",
    "V_C3 = np.array([[1], [2], [3], [4], [5]])\n",
    "\n",
    "print(\"Vector-columns :\")\n",
    "print(V_C1)\n",
    "print(V_C2)\n",
    "print(V_C3)"
   ]
  },
  {
   "cell_type": "markdown",
   "metadata": {},
   "source": []
  }
 ],
 "metadata": {
  "kernelspec": {
   "display_name": "math-env",
   "language": "python",
   "name": "python3"
  },
  "language_info": {
   "codemirror_mode": {
    "name": "ipython",
    "version": 3
   },
   "file_extension": ".py",
   "mimetype": "text/x-python",
   "name": "python",
   "nbconvert_exporter": "python",
   "pygments_lexer": "ipython3",
   "version": "3.11.0"
  },
  "orig_nbformat": 4,
  "vscode": {
   "interpreter": {
    "hash": "4dbcc41018ba8f1dba8c560e0885a6a95088a5dea418dce367a2b650fbbb44bc"
   }
  }
 },
 "nbformat": 4,
 "nbformat_minor": 2
}
